{
 "cells": [
  {
   "cell_type": "code",
   "execution_count": 49,
   "id": "adopted-abortion",
   "metadata": {},
   "outputs": [
    {
     "name": "stdout",
     "output_type": "stream",
     "text": [
      "Archive:  /home/jovyan/pokemon.zip\n",
      "  inflating: /home/jovyan/pokemon/.DS_Store  \n",
      "   creating: /home/jovyan/pokemon/pika_pika/\n",
      "  inflating: /home/jovyan/pokemon/pika_pika/.DS_Store  \n",
      "   creating: /home/jovyan/pokemon/pika_pika/single_prediction/\n",
      "  inflating: /home/jovyan/pokemon/pika_pika/single_prediction/check_1.jpg  \n",
      "  inflating: /home/jovyan/pokemon/pika_pika/single_prediction/check_2.png  \n",
      "  inflating: /home/jovyan/pokemon/pika_pika/single_prediction/check_3.jpg  \n",
      "  inflating: /home/jovyan/pokemon/pika_pika/single_prediction/check_4.jpeg  \n",
      "   creating: /home/jovyan/pokemon/pika_pika/test_set/\n",
      "  inflating: /home/jovyan/pokemon/pika_pika/test_set/.DS_Store  \n",
      "   creating: /home/jovyan/pokemon/pika_pika/test_set/pokemon1/\n",
      "  inflating: /home/jovyan/pokemon/pika_pika/test_set/pokemon1/rachu_29.jpeg  \n",
      "  inflating: /home/jovyan/pokemon/pika_pika/test_set/pokemon1/rachu_30.jpeg  \n",
      "  inflating: /home/jovyan/pokemon/pika_pika/test_set/pokemon1/rachu_31.jpeg  \n",
      "  inflating: /home/jovyan/pokemon/pika_pika/test_set/pokemon1/rachu_32.jpeg  \n",
      "  inflating: /home/jovyan/pokemon/pika_pika/test_set/pokemon1/rachu_33.jpeg  \n",
      "   creating: /home/jovyan/pokemon/pika_pika/test_set/pokemon2/\n",
      "  inflating: /home/jovyan/pokemon/pika_pika/test_set/pokemon2/.DS_Store  \n",
      "  inflating: /home/jovyan/pokemon/pika_pika/test_set/pokemon2/Pikachu.png  \n",
      "  inflating: /home/jovyan/pokemon/pika_pika/test_set/pokemon2/Pikachu_12.png  \n",
      "  inflating: /home/jovyan/pokemon/pika_pika/test_set/pokemon2/Pikachu_28.png  \n",
      " extracting: /home/jovyan/pokemon/pika_pika/test_set/pokemon2/Pikachu_30.png  \n",
      "  inflating: /home/jovyan/pokemon/pika_pika/test_set/pokemon2/pikachu-lets-go.jpg  \n",
      "   creating: /home/jovyan/pokemon/pika_pika/training_set/\n",
      "  inflating: /home/jovyan/pokemon/pika_pika/training_set/.DS_Store  \n",
      "   creating: /home/jovyan/pokemon/pika_pika/training_set/pokemon1/\n",
      "  inflating: /home/jovyan/pokemon/pika_pika/training_set/pokemon1/.DS_Store  \n",
      "  inflating: /home/jovyan/pokemon/pika_pika/training_set/pokemon1/rachu_1.png  \n",
      "  inflating: /home/jovyan/pokemon/pika_pika/training_set/pokemon1/rachu_10.png  \n",
      "  inflating: /home/jovyan/pokemon/pika_pika/training_set/pokemon1/rachu_11.jpeg  \n",
      " extracting: /home/jovyan/pokemon/pika_pika/training_set/pokemon1/rachu_12.png  \n",
      "  inflating: /home/jovyan/pokemon/pika_pika/training_set/pokemon1/rachu_13.png  \n",
      "  inflating: /home/jovyan/pokemon/pika_pika/training_set/pokemon1/rachu_14.jpeg  \n",
      "  inflating: /home/jovyan/pokemon/pika_pika/training_set/pokemon1/rachu_15.jpg  \n",
      "  inflating: /home/jovyan/pokemon/pika_pika/training_set/pokemon1/rachu_16.jpg  \n",
      "  inflating: /home/jovyan/pokemon/pika_pika/training_set/pokemon1/rachu_17.jpg  \n",
      "  inflating: /home/jovyan/pokemon/pika_pika/training_set/pokemon1/rachu_2.png  \n",
      "  inflating: /home/jovyan/pokemon/pika_pika/training_set/pokemon1/rachu_20.png  \n",
      "  inflating: /home/jovyan/pokemon/pika_pika/training_set/pokemon1/rachu_22.png  \n",
      "  inflating: /home/jovyan/pokemon/pika_pika/training_set/pokemon1/rachu_23.jpg  \n",
      " extracting: /home/jovyan/pokemon/pika_pika/training_set/pokemon1/rachu_24.png  \n",
      "  inflating: /home/jovyan/pokemon/pika_pika/training_set/pokemon1/rachu_25.jpg  \n",
      "  inflating: /home/jovyan/pokemon/pika_pika/training_set/pokemon1/rachu_26.png  \n",
      "  inflating: /home/jovyan/pokemon/pika_pika/training_set/pokemon1/rachu_28.jpeg  \n",
      " extracting: /home/jovyan/pokemon/pika_pika/training_set/pokemon1/rachu_3.png  \n",
      "  inflating: /home/jovyan/pokemon/pika_pika/training_set/pokemon1/rachu_4.jpg  \n",
      "  inflating: /home/jovyan/pokemon/pika_pika/training_set/pokemon1/rachu_5.jpeg  \n",
      "  inflating: /home/jovyan/pokemon/pika_pika/training_set/pokemon1/rachu_6.jpg  \n",
      "  inflating: /home/jovyan/pokemon/pika_pika/training_set/pokemon1/rachu_7.png  \n",
      "  inflating: /home/jovyan/pokemon/pika_pika/training_set/pokemon1/rachu_8.png  \n",
      "  inflating: /home/jovyan/pokemon/pika_pika/training_set/pokemon1/rachu_9.png  \n",
      "   creating: /home/jovyan/pokemon/pika_pika/training_set/pokemon2/\n",
      "  inflating: /home/jovyan/pokemon/pika_pika/training_set/pokemon2/.DS_Store  \n",
      "  inflating: /home/jovyan/pokemon/pika_pika/training_set/pokemon2/60.jpeg  \n",
      "  inflating: /home/jovyan/pokemon/pika_pika/training_set/pokemon2/Pikachu_1.jpeg  \n",
      "  inflating: /home/jovyan/pokemon/pika_pika/training_set/pokemon2/Pikachu_10.jpg  \n",
      "  inflating: /home/jovyan/pokemon/pika_pika/training_set/pokemon2/Pikachu_11.jpg  \n",
      "  inflating: /home/jovyan/pokemon/pika_pika/training_set/pokemon2/Pikachu_13.png  \n",
      "  inflating: /home/jovyan/pokemon/pika_pika/training_set/pokemon2/Pikachu_14.png  \n",
      "  inflating: /home/jovyan/pokemon/pika_pika/training_set/pokemon2/Pikachu_15.jpeg  \n",
      "  inflating: /home/jovyan/pokemon/pika_pika/training_set/pokemon2/Pikachu_16.jpeg  \n",
      "  inflating: /home/jovyan/pokemon/pika_pika/training_set/pokemon2/Pikachu_17.jpeg  \n",
      "  inflating: /home/jovyan/pokemon/pika_pika/training_set/pokemon2/Pikachu_18.jpeg  \n",
      "  inflating: /home/jovyan/pokemon/pika_pika/training_set/pokemon2/Pikachu_19.jpeg  \n",
      "  inflating: /home/jovyan/pokemon/pika_pika/training_set/pokemon2/Pikachu_2.jpg  \n",
      "  inflating: /home/jovyan/pokemon/pika_pika/training_set/pokemon2/Pikachu_20.png  \n",
      "  inflating: /home/jovyan/pokemon/pika_pika/training_set/pokemon2/Pikachu_22.jpg  \n",
      "  inflating: /home/jovyan/pokemon/pika_pika/training_set/pokemon2/Pikachu_23.jpg  \n",
      "  inflating: /home/jovyan/pokemon/pika_pika/training_set/pokemon2/Pikachu_24.jpeg  \n",
      "  inflating: /home/jovyan/pokemon/pika_pika/training_set/pokemon2/Pikachu_25.png  \n",
      "  inflating: /home/jovyan/pokemon/pika_pika/training_set/pokemon2/Pikachu_26.jpg  \n",
      "  inflating: /home/jovyan/pokemon/pika_pika/training_set/pokemon2/Pikachu_27.jpeg  \n",
      "  inflating: /home/jovyan/pokemon/pika_pika/training_set/pokemon2/Pikachu_3.png  \n",
      "  inflating: /home/jovyan/pokemon/pika_pika/training_set/pokemon2/Pikachu_4.png  \n",
      "  inflating: /home/jovyan/pokemon/pika_pika/training_set/pokemon2/Pikachu_5.jpg  \n",
      "  inflating: /home/jovyan/pokemon/pika_pika/training_set/pokemon2/Pikachu_6.jpg  \n",
      "  inflating: /home/jovyan/pokemon/pika_pika/training_set/pokemon2/Pikachu_7.jpeg  \n",
      "  inflating: /home/jovyan/pokemon/pika_pika/training_set/pokemon2/Pikachu_8.png  \n",
      "  inflating: /home/jovyan/pokemon/pika_pika/training_set/pokemon2/Pikachu_9.jpg  \n"
     ]
    }
   ],
   "source": [
    "! unzip ~/pokemon.zip -d ~/"
   ]
  },
  {
   "cell_type": "code",
   "execution_count": 11,
   "id": "broken-payment",
   "metadata": {},
   "outputs": [
    {
     "name": "stdout",
     "output_type": "stream",
     "text": [
      "Collecting tensorflow\n",
      "  Downloading tensorflow-2.6.0-cp36-cp36m-manylinux2010_x86_64.whl (458.3 MB)\n",
      "\u001b[K     |████████████████████████████████| 458.3 MB 28 kB/s s eta 0:00:01  |                                | 942 kB 4.5 MB/s eta 0:01:43     |█▊                              | 24.3 MB 4.5 MB/s eta 0:01:38     |█▉                              | 26.3 MB 4.5 MB/s eta 0:01:37                      | 27.4 MB 4.5 MB/s eta 0:01:37     |██▏                             | 30.5 MB 4.5 MB/s eta 0:01:3638.7 MB 4.8 MB/s eta 0:01:28     |████████▏                       | 116.9 MB 3.6 MB/s eta 0:01:36               | 143.6 MB 3.3 MB/s eta 0:01:34     |████████████                    | 172.8 MB 3.3 MB/s eta 0:01:27███▌                 | 207.0 MB 2.6 MB/s eta 0:01:35████                 | 216.1 MB 2.6 MB/s eta 0:01:32     |████████████████████▎           | 289.9 MB 2.5 MB/s eta 0:01:08�████████▊           | 296.5 MB 2.5 MB/s eta 0:01:05��████████████████████▏          | 303.0 MB 4.5 MB/s eta 0:00:35��█████████████████████          | 314.5 MB 4.5 MB/s eta 0:00:33     |██████████████████████▊         | 326.0 MB 4.5 MB/s eta 0:00:30B/s eta 0:00:29█████▉        | 340.9 MB 3.8 MB/s eta 0:00:31MB/s eta 0:00:02MB/s eta 0:00:02��███████████████████▋   | 409.0 MB 3.6 MB/s eta 0:00:14█████████   | 416.4 MB 3.6 MB/s eta 0:00:12     |█████████████████████████████▌  | 421.9 MB 3.6 MB/s eta 0:00:11     |█████████████████████████████▊  | 425.4 MB 3.6 MB/s eta 0:00:10     |██████████████████████████████  | 428.6 MB 15.5 MB/s eta 0:00:02     |██████████████████████████████  | 429.7 MB 15.5 MB/s eta 0:00:02�██ | 442.5 MB 15.5 MB/s eta 0:00:02��███████████▋| 453.0 MB 15.5 MB/s eta 0:00:01\n",
      "\u001b[?25hCollecting h5py~=3.1.0\n",
      "  Downloading h5py-3.1.0-cp36-cp36m-manylinux1_x86_64.whl (4.0 MB)\n",
      "\u001b[K     |████████████████████████████████| 4.0 MB 9.1 MB/s eta 0:00:01\n",
      "\u001b[?25hCollecting keras-preprocessing~=1.1.2\n",
      "  Downloading Keras_Preprocessing-1.1.2-py2.py3-none-any.whl (42 kB)\n",
      "\u001b[K     |████████████████████████████████| 42 kB 1.2 MB/s  eta 0:00:01\n",
      "\u001b[?25hRequirement already satisfied: six~=1.15.0 in /srv/conda/envs/notebook/lib/python3.6/site-packages (from tensorflow) (1.15.0)\n",
      "Requirement already satisfied: typing-extensions~=3.7.4 in /srv/conda/envs/notebook/lib/python3.6/site-packages (from tensorflow) (3.7.4.3)\n",
      "Requirement already satisfied: numpy~=1.19.2 in /srv/conda/envs/notebook/lib/python3.6/site-packages (from tensorflow) (1.19.5)\n",
      "Collecting protobuf>=3.9.2\n",
      "  Downloading protobuf-3.17.3-cp36-cp36m-manylinux_2_5_x86_64.manylinux1_x86_64.whl (1.0 MB)\n",
      "\u001b[K     |████████████████████████████████| 1.0 MB 49.5 MB/s eta 0:00:01\n",
      "\u001b[?25hCollecting tensorboard~=2.6\n",
      "  Downloading tensorboard-2.6.0-py3-none-any.whl (5.6 MB)\n",
      "\u001b[K     |████████████████████████████████| 5.6 MB 39.3 MB/s eta 0:00:01\n",
      "\u001b[?25hCollecting termcolor~=1.1.0\n",
      "  Downloading termcolor-1.1.0.tar.gz (3.9 kB)\n",
      "Requirement already satisfied: wheel~=0.35 in /srv/conda/envs/notebook/lib/python3.6/site-packages (from tensorflow) (0.36.2)\n",
      "Collecting astunparse~=1.6.3\n",
      "  Downloading astunparse-1.6.3-py2.py3-none-any.whl (12 kB)\n",
      "Collecting absl-py~=0.10\n",
      "  Downloading absl_py-0.13.0-py3-none-any.whl (132 kB)\n",
      "\u001b[K     |████████████████████████████████| 132 kB 9.2 MB/s eta 0:00:01\n",
      "\u001b[?25hCollecting flatbuffers~=1.12.0\n",
      "  Downloading flatbuffers-1.12-py2.py3-none-any.whl (15 kB)\n",
      "Collecting wrapt~=1.12.1\n",
      "  Downloading wrapt-1.12.1.tar.gz (27 kB)\n",
      "Collecting clang~=5.0\n",
      "  Downloading clang-5.0.tar.gz (30 kB)\n",
      "Collecting gast==0.4.0\n",
      "  Downloading gast-0.4.0-py3-none-any.whl (9.8 kB)\n",
      "Collecting keras~=2.6\n",
      "  Downloading keras-2.6.0-py2.py3-none-any.whl (1.3 MB)\n",
      "\u001b[K     |████████████████████████████████| 1.3 MB 35.0 MB/s eta 0:00:01\n",
      "\u001b[?25hCollecting tensorflow-estimator~=2.6\n",
      "  Downloading tensorflow_estimator-2.6.0-py2.py3-none-any.whl (462 kB)\n",
      "\u001b[K     |████████████████████████████████| 462 kB 27.3 MB/s eta 0:00:01\n",
      "\u001b[?25hCollecting grpcio<2.0,>=1.37.0\n",
      "  Downloading grpcio-1.39.0-cp36-cp36m-manylinux2014_x86_64.whl (4.3 MB)\n",
      "\u001b[K     |████████████████████████████████| 4.3 MB 51.3 MB/s eta 0:00:01\n",
      "\u001b[?25hCollecting google-pasta~=0.2\n",
      "  Downloading google_pasta-0.2.0-py3-none-any.whl (57 kB)\n",
      "\u001b[K     |████████████████████████████████| 57 kB 5.6 MB/s  eta 0:00:01\n",
      "\u001b[?25hCollecting opt-einsum~=3.3.0\n",
      "  Downloading opt_einsum-3.3.0-py3-none-any.whl (65 kB)\n",
      "\u001b[K     |████████████████████████████████| 65 kB 4.3 MB/s  eta 0:00:01\n",
      "\u001b[?25hCollecting cached-property\n",
      "  Downloading cached_property-1.5.2-py2.py3-none-any.whl (7.6 kB)\n",
      "Collecting tensorboard-data-server<0.7.0,>=0.6.0\n",
      "  Downloading tensorboard_data_server-0.6.1-py3-none-manylinux2010_x86_64.whl (4.9 MB)\n",
      "\u001b[K     |████████████████████████████████| 4.9 MB 37.4 MB/s eta 0:00:01\n",
      "\u001b[?25hRequirement already satisfied: requests<3,>=2.21.0 in /srv/conda/envs/notebook/lib/python3.6/site-packages (from tensorboard~=2.6->tensorflow) (2.25.1)\n",
      "Collecting google-auth<2,>=1.6.3\n",
      "  Downloading google_auth-1.35.0-py2.py3-none-any.whl (152 kB)\n",
      "\u001b[K     |████████████████████████████████| 152 kB 37.3 MB/s eta 0:00:01\n",
      "\u001b[?25hCollecting tensorboard-plugin-wit>=1.6.0\n",
      "  Downloading tensorboard_plugin_wit-1.8.0-py3-none-any.whl (781 kB)\n",
      "\u001b[K     |████████████████████████████████| 781 kB 26.9 MB/s eta 0:00:01\n",
      "\u001b[?25hCollecting markdown>=2.6.8\n",
      "  Downloading Markdown-3.3.4-py3-none-any.whl (97 kB)\n",
      "\u001b[K     |████████████████████████████████| 97 kB 7.6 MB/s  eta 0:00:01\n",
      "\u001b[?25hCollecting werkzeug>=0.11.15\n",
      "  Downloading Werkzeug-2.0.1-py3-none-any.whl (288 kB)\n",
      "\u001b[K     |████████████████████████████████| 288 kB 49.2 MB/s eta 0:00:01\n",
      "\u001b[?25hCollecting google-auth-oauthlib<0.5,>=0.4.1\n",
      "  Downloading google_auth_oauthlib-0.4.5-py2.py3-none-any.whl (18 kB)\n",
      "Requirement already satisfied: setuptools>=41.0.0 in /srv/conda/envs/notebook/lib/python3.6/site-packages (from tensorboard~=2.6->tensorflow) (49.6.0.post20210108)\n",
      "Collecting pyasn1-modules>=0.2.1\n",
      "  Downloading pyasn1_modules-0.2.8-py2.py3-none-any.whl (155 kB)\n",
      "\u001b[K     |████████████████████████████████| 155 kB 43.3 MB/s eta 0:00:01\n",
      "\u001b[?25hCollecting cachetools<5.0,>=2.0.0\n",
      "  Downloading cachetools-4.2.2-py3-none-any.whl (11 kB)\n",
      "Collecting rsa<5,>=3.1.4\n",
      "  Downloading rsa-4.7.2-py3-none-any.whl (34 kB)\n",
      "Collecting requests-oauthlib>=0.7.0\n",
      "  Downloading requests_oauthlib-1.3.0-py2.py3-none-any.whl (23 kB)\n",
      "Requirement already satisfied: importlib-metadata in /srv/conda/envs/notebook/lib/python3.6/site-packages (from markdown>=2.6.8->tensorboard~=2.6->tensorflow) (3.4.0)\n",
      "Collecting pyasn1<0.5.0,>=0.4.6\n",
      "  Downloading pyasn1-0.4.8-py2.py3-none-any.whl (77 kB)\n",
      "\u001b[K     |████████████████████████████████| 77 kB 3.9 MB/s  eta 0:00:01\n",
      "\u001b[?25hRequirement already satisfied: chardet<5,>=3.0.2 in /srv/conda/envs/notebook/lib/python3.6/site-packages (from requests<3,>=2.21.0->tensorboard~=2.6->tensorflow) (4.0.0)\n",
      "Requirement already satisfied: certifi>=2017.4.17 in /srv/conda/envs/notebook/lib/python3.6/site-packages (from requests<3,>=2.21.0->tensorboard~=2.6->tensorflow) (2020.12.5)\n",
      "Requirement already satisfied: idna<3,>=2.5 in /srv/conda/envs/notebook/lib/python3.6/site-packages (from requests<3,>=2.21.0->tensorboard~=2.6->tensorflow) (2.10)\n",
      "Requirement already satisfied: urllib3<1.27,>=1.21.1 in /srv/conda/envs/notebook/lib/python3.6/site-packages (from requests<3,>=2.21.0->tensorboard~=2.6->tensorflow) (1.26.3)\n",
      "Requirement already satisfied: oauthlib>=3.0.0 in /srv/conda/envs/notebook/lib/python3.6/site-packages (from requests-oauthlib>=0.7.0->google-auth-oauthlib<0.5,>=0.4.1->tensorboard~=2.6->tensorflow) (3.0.1)\n",
      "Requirement already satisfied: dataclasses in /srv/conda/envs/notebook/lib/python3.6/site-packages (from werkzeug>=0.11.15->tensorboard~=2.6->tensorflow) (0.7)\n",
      "Requirement already satisfied: zipp>=0.5 in /srv/conda/envs/notebook/lib/python3.6/site-packages (from importlib-metadata->markdown>=2.6.8->tensorboard~=2.6->tensorflow) (3.4.0)\n",
      "Building wheels for collected packages: clang, termcolor, wrapt\n",
      "  Building wheel for clang (setup.py) ... \u001b[?25ldone\n",
      "\u001b[?25h  Created wheel for clang: filename=clang-5.0-py3-none-any.whl size=30702 sha256=3c92632d399e2c50b464669dcb58c37044324fe87ca95d497b9f46f35d680dec\n",
      "  Stored in directory: /home/jovyan/.cache/pip/wheels/22/4c/94/0583f60c9c5b6024ed64f290cb2d43b06bb4f75577dc3c93a7\n",
      "  Building wheel for termcolor (setup.py) ... \u001b[?25ldone\n",
      "\u001b[?25h  Created wheel for termcolor: filename=termcolor-1.1.0-py3-none-any.whl size=4829 sha256=df981e243570edf068942184971c44cbfe2133da6784e7f3b9a1c2b7ec7f2e9c\n",
      "  Stored in directory: /home/jovyan/.cache/pip/wheels/93/2a/eb/e58dbcbc963549ee4f065ff80a59f274cc7210b6eab962acdc\n",
      "  Building wheel for wrapt (setup.py) ... \u001b[?25ldone\n",
      "\u001b[?25h  Created wheel for wrapt: filename=wrapt-1.12.1-cp36-cp36m-linux_x86_64.whl size=69773 sha256=36b023ffe04d54df9f3293a69086b7987dbf10f430fc7437c7a5b938f042b0be\n",
      "  Stored in directory: /home/jovyan/.cache/pip/wheels/32/42/7f/23cae9ff6ef66798d00dc5d659088e57dbba01566f6c60db63\n",
      "Successfully built clang termcolor wrapt\n",
      "Installing collected packages: pyasn1, rsa, pyasn1-modules, cachetools, requests-oauthlib, google-auth, werkzeug, tensorboard-plugin-wit, tensorboard-data-server, protobuf, markdown, grpcio, google-auth-oauthlib, cached-property, absl-py, wrapt, termcolor, tensorflow-estimator, tensorboard, opt-einsum, keras-preprocessing, keras, h5py, google-pasta, gast, flatbuffers, clang, astunparse, tensorflow\n",
      "Successfully installed absl-py-0.13.0 astunparse-1.6.3 cached-property-1.5.2 cachetools-4.2.2 clang-5.0 flatbuffers-1.12 gast-0.4.0 google-auth-1.35.0 google-auth-oauthlib-0.4.5 google-pasta-0.2.0 grpcio-1.39.0 h5py-3.1.0 keras-2.6.0 keras-preprocessing-1.1.2 markdown-3.3.4 opt-einsum-3.3.0 protobuf-3.17.3 pyasn1-0.4.8 pyasn1-modules-0.2.8 requests-oauthlib-1.3.0 rsa-4.7.2 tensorboard-2.6.0 tensorboard-data-server-0.6.1 tensorboard-plugin-wit-1.8.0 tensorflow-2.6.0 tensorflow-estimator-2.6.0 termcolor-1.1.0 werkzeug-2.0.1 wrapt-1.12.1\n",
      "Note: you may need to restart the kernel to use updated packages.\n"
     ]
    }
   ],
   "source": [
    "pip install tensorflow "
   ]
  },
  {
   "cell_type": "code",
   "execution_count": 12,
   "id": "double-forth",
   "metadata": {},
   "outputs": [
    {
     "name": "stdout",
     "output_type": "stream",
     "text": [
      "Requirement already satisfied: keras in /srv/conda/envs/notebook/lib/python3.6/site-packages (2.6.0)\n",
      "Note: you may need to restart the kernel to use updated packages.\n"
     ]
    }
   ],
   "source": [
    "pip install keras"
   ]
  },
  {
   "cell_type": "code",
   "execution_count": 1,
   "id": "hollywood-grill",
   "metadata": {},
   "outputs": [],
   "source": [
    "import tensorflow as tf\n",
    "from keras.preprocessing.image import ImageDataGenerator"
   ]
  },
  {
   "cell_type": "code",
   "execution_count": 2,
   "id": "accessible-equation",
   "metadata": {},
   "outputs": [],
   "source": [
    "train_datagen = ImageDataGenerator(rescale = 1./255,\n",
    "                                   shear_range = 0.2,\n",
    "                                   zoom_range = 0.2,\n",
    "                                   horizontal_flip = True)\n"
   ]
  },
  {
   "cell_type": "code",
   "execution_count": 3,
   "id": "referenced-complement",
   "metadata": {},
   "outputs": [
    {
     "data": {
      "text/plain": [
       "'/home/jovyan/binder'"
      ]
     },
     "execution_count": 3,
     "metadata": {},
     "output_type": "execute_result"
    }
   ],
   "source": [
    "pwd"
   ]
  },
  {
   "cell_type": "code",
   "execution_count": 50,
   "id": "administrative-december",
   "metadata": {},
   "outputs": [
    {
     "name": "stdout",
     "output_type": "stream",
     "text": [
      "Found 50 images belonging to 2 classes.\n"
     ]
    }
   ],
   "source": [
    "training_set = train_datagen.flow_from_directory('/home/jovyan/binder/pokemon/pika_pika/training_set',\n",
    "                                                 target_size = (64, 64),\n",
    "                                                 batch_size = 32,\n",
    "                                                 class_mode = 'binary')"
   ]
  },
  {
   "cell_type": "code",
   "execution_count": 52,
   "id": "inner-rider",
   "metadata": {},
   "outputs": [
    {
     "name": "stdout",
     "output_type": "stream",
     "text": [
      "Found 10 images belonging to 2 classes.\n"
     ]
    }
   ],
   "source": [
    "test_datagen = ImageDataGenerator(rescale = 1./255)\n",
    "test_set = test_datagen.flow_from_directory('/home/jovyan/binder/pokemon/pika_pika/test_set',\n",
    "                                            target_size = (64, 64),\n",
    "                                            batch_size = 32,\n",
    "                                            class_mode = 'binary')"
   ]
  },
  {
   "cell_type": "markdown",
   "id": "external-basics",
   "metadata": {},
   "source": [
    "# CNN"
   ]
  },
  {
   "cell_type": "code",
   "execution_count": 53,
   "id": "limited-mitchell",
   "metadata": {},
   "outputs": [],
   "source": [
    "cnn = tf.keras.models.Sequential()"
   ]
  },
  {
   "cell_type": "code",
   "execution_count": 54,
   "id": "animal-utilization",
   "metadata": {},
   "outputs": [],
   "source": [
    "cnn.add(tf.keras.layers.Conv2D(filters=32, kernel_size=3, activation='relu', input_shape=[64, 64, 3]))"
   ]
  },
  {
   "cell_type": "code",
   "execution_count": 55,
   "id": "close-machine",
   "metadata": {},
   "outputs": [],
   "source": [
    "cnn.add(tf.keras.layers.MaxPool2D(pool_size=2, strides=2))"
   ]
  },
  {
   "cell_type": "code",
   "execution_count": 56,
   "id": "authentic-restriction",
   "metadata": {},
   "outputs": [],
   "source": [
    "cnn.add(tf.keras.layers.Conv2D(filters=32, kernel_size=3, activation='relu'))\n",
    "cnn.add(tf.keras.layers.MaxPool2D(pool_size=2, strides=2))\n"
   ]
  },
  {
   "cell_type": "code",
   "execution_count": 57,
   "id": "entertaining-scout",
   "metadata": {},
   "outputs": [],
   "source": [
    "cnn.add(tf.keras.layers.Flatten())"
   ]
  },
  {
   "cell_type": "code",
   "execution_count": 58,
   "id": "turned-baseline",
   "metadata": {},
   "outputs": [],
   "source": [
    "cnn.add(tf.keras.layers.Dense(units=128, activation='relu'))"
   ]
  },
  {
   "cell_type": "code",
   "execution_count": 59,
   "id": "armed-fiber",
   "metadata": {},
   "outputs": [],
   "source": [
    "cnn.add(tf.keras.layers.Dense(units=1, activation='sigmoid'))"
   ]
  },
  {
   "cell_type": "markdown",
   "id": "nearby-programmer",
   "metadata": {},
   "source": [
    "\n",
    "# Training and Compiling"
   ]
  },
  {
   "cell_type": "code",
   "execution_count": 60,
   "id": "appointed-rouge",
   "metadata": {},
   "outputs": [],
   "source": [
    "cnn.compile(optimizer = 'adam', loss = 'binary_crossentropy', metrics = ['accuracy'])"
   ]
  },
  {
   "cell_type": "code",
   "execution_count": 61,
   "id": "wrong-failing",
   "metadata": {},
   "outputs": [
    {
     "name": "stdout",
     "output_type": "stream",
     "text": [
      "Epoch 1/25\n",
      "2/2 [==============================] - 2s 1s/step - loss: 0.7284 - accuracy: 0.4400 - val_loss: 1.0722 - val_accuracy: 0.5000\n",
      "Epoch 2/25\n",
      "2/2 [==============================] - 1s 510ms/step - loss: 1.0523 - accuracy: 0.5200 - val_loss: 0.7376 - val_accuracy: 0.5000\n",
      "Epoch 3/25\n",
      "2/2 [==============================] - 1s 622ms/step - loss: 0.7000 - accuracy: 0.5400 - val_loss: 0.7862 - val_accuracy: 0.5000\n",
      "Epoch 4/25\n",
      "2/2 [==============================] - 1s 990ms/step - loss: 0.6578 - accuracy: 0.7000 - val_loss: 0.6541 - val_accuracy: 0.7000\n",
      "Epoch 5/25\n",
      "2/2 [==============================] - 1s 682ms/step - loss: 0.5965 - accuracy: 0.8200 - val_loss: 0.6472 - val_accuracy: 0.6000\n",
      "Epoch 6/25\n",
      "2/2 [==============================] - 1s 685ms/step - loss: 0.6058 - accuracy: 0.5800 - val_loss: 0.6387 - val_accuracy: 0.6000\n",
      "Epoch 7/25\n",
      "2/2 [==============================] - 1s 569ms/step - loss: 0.5581 - accuracy: 0.6800 - val_loss: 0.6200 - val_accuracy: 0.8000\n",
      "Epoch 8/25\n",
      "2/2 [==============================] - 1s 501ms/step - loss: 0.5050 - accuracy: 0.8800 - val_loss: 0.6282 - val_accuracy: 0.8000\n",
      "Epoch 9/25\n",
      "2/2 [==============================] - 1s 919ms/step - loss: 0.4514 - accuracy: 0.8400 - val_loss: 0.5763 - val_accuracy: 0.6000\n",
      "Epoch 10/25\n",
      "2/2 [==============================] - 1s 692ms/step - loss: 0.3584 - accuracy: 0.9600 - val_loss: 0.6530 - val_accuracy: 0.7000\n",
      "Epoch 11/25\n",
      "2/2 [==============================] - 1s 992ms/step - loss: 0.3327 - accuracy: 0.9000 - val_loss: 0.6369 - val_accuracy: 0.8000\n",
      "Epoch 12/25\n",
      "2/2 [==============================] - 1s 814ms/step - loss: 0.2624 - accuracy: 0.9200 - val_loss: 0.5169 - val_accuracy: 0.7000\n",
      "Epoch 13/25\n",
      "2/2 [==============================] - 1s 843ms/step - loss: 0.2370 - accuracy: 0.9400 - val_loss: 0.6033 - val_accuracy: 0.8000\n",
      "Epoch 14/25\n",
      "2/2 [==============================] - 1s 592ms/step - loss: 0.1821 - accuracy: 0.9400 - val_loss: 0.7106 - val_accuracy: 0.8000\n",
      "Epoch 15/25\n",
      "2/2 [==============================] - 1s 531ms/step - loss: 0.1462 - accuracy: 0.9400 - val_loss: 0.5546 - val_accuracy: 0.9000\n",
      "Epoch 16/25\n",
      "2/2 [==============================] - 1s 713ms/step - loss: 0.1140 - accuracy: 0.9600 - val_loss: 0.5556 - val_accuracy: 0.7000\n",
      "Epoch 17/25\n",
      "2/2 [==============================] - 1s 652ms/step - loss: 0.1224 - accuracy: 0.9400 - val_loss: 0.8304 - val_accuracy: 0.9000\n",
      "Epoch 18/25\n",
      "2/2 [==============================] - 1s 898ms/step - loss: 0.0947 - accuracy: 0.9600 - val_loss: 1.0094 - val_accuracy: 0.8000\n",
      "Epoch 19/25\n",
      "2/2 [==============================] - 1s 749ms/step - loss: 0.0597 - accuracy: 0.9600 - val_loss: 0.6604 - val_accuracy: 0.9000\n",
      "Epoch 20/25\n",
      "2/2 [==============================] - 1s 593ms/step - loss: 0.0845 - accuracy: 0.9800 - val_loss: 0.7343 - val_accuracy: 0.9000\n",
      "Epoch 21/25\n",
      "2/2 [==============================] - 1s 719ms/step - loss: 0.0653 - accuracy: 0.9600 - val_loss: 1.0097 - val_accuracy: 0.8000\n",
      "Epoch 22/25\n",
      "2/2 [==============================] - 1s 497ms/step - loss: 0.0570 - accuracy: 0.9600 - val_loss: 1.0117 - val_accuracy: 0.8000\n",
      "Epoch 23/25\n",
      "2/2 [==============================] - 1s 900ms/step - loss: 0.0370 - accuracy: 1.0000 - val_loss: 1.0483 - val_accuracy: 0.8000\n",
      "Epoch 24/25\n",
      "2/2 [==============================] - 1s 591ms/step - loss: 0.0174 - accuracy: 1.0000 - val_loss: 0.9948 - val_accuracy: 0.8000\n",
      "Epoch 25/25\n",
      "2/2 [==============================] - 1s 997ms/step - loss: 0.0139 - accuracy: 1.0000 - val_loss: 0.9988 - val_accuracy: 0.8000\n"
     ]
    },
    {
     "data": {
      "text/plain": [
       "<keras.callbacks.History at 0x7f191c95a4e0>"
      ]
     },
     "execution_count": 61,
     "metadata": {},
     "output_type": "execute_result"
    }
   ],
   "source": [
    "cnn.fit(x = training_set, validation_data = test_set, epochs = 25)"
   ]
  },
  {
   "cell_type": "code",
   "execution_count": 69,
   "id": "approved-delight",
   "metadata": {},
   "outputs": [],
   "source": [
    "import numpy as np\n",
    "from keras.preprocessing import image\n",
    "test_image = image.load_img('/home/jovyan/binder/pokemon/pika_pika/single_prediction/check_2.png', target_size = (64, 64))\n",
    "test_image = image.img_to_array(test_image)\n",
    "test_image = np.expand_dims(test_image, axis = 0)\n",
    "result = cnn.predict(test_image)\n",
    "training_set.class_indices\n",
    "if result[0][0] == 1:\n",
    "  prediction = 'pikachu'\n",
    "else:\n",
    "  prediction = 'raichu'"
   ]
  },
  {
   "cell_type": "code",
   "execution_count": 70,
   "id": "visible-cancer",
   "metadata": {},
   "outputs": [
    {
     "name": "stdout",
     "output_type": "stream",
     "text": [
      "pikachu\n"
     ]
    }
   ],
   "source": [
    "print(prediction)"
   ]
  },
  {
   "cell_type": "code",
   "execution_count": null,
   "id": "silver-scottish",
   "metadata": {},
   "outputs": [],
   "source": []
  }
 ],
 "metadata": {
  "kernelspec": {
   "display_name": "Python 3",
   "language": "python",
   "name": "python3"
  },
  "language_info": {
   "codemirror_mode": {
    "name": "ipython",
    "version": 3
   },
   "file_extension": ".py",
   "mimetype": "text/x-python",
   "name": "python",
   "nbconvert_exporter": "python",
   "pygments_lexer": "ipython3",
   "version": "3.6.13"
  }
 },
 "nbformat": 4,
 "nbformat_minor": 5
}
